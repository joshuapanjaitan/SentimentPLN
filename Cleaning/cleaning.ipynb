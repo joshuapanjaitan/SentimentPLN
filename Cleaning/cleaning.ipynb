{
 "cells": [
  {
   "cell_type": "markdown",
   "metadata": {},
   "source": [
    "# Cleaning / Preprocessing\n",
    "Merupakan tahapan untuk membersihkan tweet dari Special Char, URL, Character yang tidak perlu dan mengubah Emoticon menjadi bahasa yang bisa dimengerti oleh manusia.\n",
    "Fungsinya agar pengolahan tweet lebih mudah saat masuk metode utama."
   ]
  },
  {
   "cell_type": "code",
   "execution_count": 28,
   "metadata": {},
   "outputs": [],
   "source": [
    "#dependency\n",
    "import tweepy\n",
    "from textblob import TextBlob\n",
    "import numpy as np\n",
    "import csv\n",
    "import datetime\n",
    "import nltk\n",
    "from nltk.tokenize import TweetTokenizer\n",
    "from collections import defaultdict\n",
    "import re\n",
    "import pandas as pd\n",
    "from itertools import zip_longest"
   ]
  },
  {
   "cell_type": "code",
   "execution_count": 29,
   "metadata": {},
   "outputs": [],
   "source": [
    "twToken = TweetTokenizer()\n",
    "tweetStorage = []\n",
    "brendaTwWithEmoji = []\n",
    "emoji = []\n",
    "kamus = {}\n",
    "uname = 'res'"
   ]
  },
  {
   "cell_type": "code",
   "execution_count": 30,
   "metadata": {},
   "outputs": [],
   "source": [
    "#Baca Data tweet\n",
    "data = pd.read_csv('res.csv', usecols=[0, 1], names=['date', 'tweet'])\n",
    "for line in data['tweet']:\n",
    "    tweetStorage.append(line)"
   ]
  },
  {
   "cell_type": "code",
   "execution_count": 31,
   "metadata": {},
   "outputs": [],
   "source": [
    "#baca library Emoticon\n",
    "with open(\"Emoticon_Lib.csv\", 'r') as csv_file:\n",
    "    reader = csv.reader(csv_file)\n",
    "    for row in reader:\n",
    "        emoji.append(row)"
   ]
  },
  {
   "cell_type": "code",
   "execution_count": 32,
   "metadata": {},
   "outputs": [],
   "source": [
    "#load emoticon kedalam dictionary\n",
    "for i in range(len(emoji)):\n",
    "    a = emoji[i][0]\n",
    "    b = emoji[i][1]\n",
    "    kamus[a] = b"
   ]
  },
  {
   "cell_type": "code",
   "execution_count": 33,
   "metadata": {},
   "outputs": [],
   "source": [
    "# fungsi untuk mengecek kunci sebuah dictionary\n",
    "def checkKey(dict, key):  \n",
    "    hasil = ''\n",
    "    if key in dict:\n",
    "        hasil = 'yes'\n",
    "    else:\n",
    "        hasil = 'No'\n",
    "    return hasil"
   ]
  },
  {
   "cell_type": "code",
   "execution_count": 34,
   "metadata": {},
   "outputs": [],
   "source": [
    "#fungsi untuk menconvert emoji kedalam bahasa manusia berdasarkan kamus emoji\n",
    "def replace_emoji(key):\n",
    "    kunci = 'U+'+key\n",
    "    tes = checkKey(kamus, kunci)\n",
    "    hasil = ''\n",
    "    if tes == 'yes':\n",
    "        hasil = '#'+kamus[kunci]+'#'\n",
    "    elif tes == 'No':\n",
    "        hasil = ''\n",
    "    return hasil"
   ]
  },
  {
   "cell_type": "markdown",
   "metadata": {},
   "source": [
    "# Bersihkan Tweet Dari Special Char, Convert Emoji "
   ]
  },
  {
   "cell_type": "code",
   "execution_count": 35,
   "metadata": {},
   "outputs": [],
   "source": [
    "for x in range(len(tweetStorage)):\n",
    "    text = ''.join(tweetStorage[x])\n",
    "    text = text[1::]\n",
    "    text = text.replace(\"\\\\n\\\\\", '')\n",
    "    text = text.replace(\"'\", ' ')\n",
    "    text = text.replace(\"...\", '')\n",
    "    text = text.replace(\"\\\\\", ' ')\n",
    "    text = text.replace(\"(\", '')\n",
    "    text = text.replace(\")\", '')\n",
    "    text = text.replace(\"w/\", '')\n",
    "    text = text.replace(\"U000\", 'u')\n",
    "    text = text.lower()\n",
    "    sent = text.split()\n",
    "    xMoji = []\n",
    "    for t in range(len(sent)):\n",
    "        u = sent[t]\n",
    "        if u[0] == 'u':\n",
    "            if len(u) > 1:\n",
    "                if u[1] == '0' or u[1] == '1' or u[1] == '2' or u[1] == '3':\n",
    "                    u = u.replace('u', '')\n",
    "                    xMoji.append(u)\n",
    "    for j in range(len(xMoji)):\n",
    "        moji = xMoji[j].upper()\n",
    "        ress = replace_emoji(moji)\n",
    "        has = 'u'+xMoji[j]\n",
    "        text = text.replace(has, ress)\n",
    "        text = re.sub(\"\\s\\s+\", \" \", text)\n",
    "    brendaTwWithEmoji.append(text)"
   ]
  },
  {
   "cell_type": "code",
   "execution_count": 36,
   "metadata": {},
   "outputs": [],
   "source": [
    "bundle = [data['date'], brendaTwWithEmoji]\n",
    "export_data = zip_longest(*bundle, fillvalue='')\n",
    "with open('res1.csv', 'w', encoding=\"ISO-8859-1\", newline='') as myfile:\n",
    "    wr = csv.writer(myfile)\n",
    "    wr.writerows(export_data)\n",
    "myfile.close()"
   ]
  },
  {
   "cell_type": "code",
   "execution_count": 37,
   "metadata": {},
   "outputs": [
    {
     "data": {
      "text/html": [
       "<div>\n",
       "<style scoped>\n",
       "    .dataframe tbody tr th:only-of-type {\n",
       "        vertical-align: middle;\n",
       "    }\n",
       "\n",
       "    .dataframe tbody tr th {\n",
       "        vertical-align: top;\n",
       "    }\n",
       "\n",
       "    .dataframe thead th {\n",
       "        text-align: right;\n",
       "    }\n",
       "</style>\n",
       "<table border=\"1\" class=\"dataframe\">\n",
       "  <thead>\n",
       "    <tr style=\"text-align: right;\">\n",
       "      <th></th>\n",
       "      <th>date</th>\n",
       "      <th>tweet</th>\n",
       "    </tr>\n",
       "  </thead>\n",
       "  <tbody>\n",
       "    <tr>\n",
       "      <td>0</td>\n",
       "      <td>8-Jul-20</td>\n",
       "      <td>#plnvangke @pln_123 cuma pake 350 kwh kok dibebankan 1.562 kwh? https://t.co/o8dyn3xoqd</td>\n",
       "    </tr>\n",
       "    <tr>\n",
       "      <td>1</td>\n",
       "      <td>8-Jul-20</td>\n",
       "      <td>asal usul tagihan listrik ajaib by @pln_123      #plnvangke https://t.co/j4pphxfaro</td>\n",
       "    </tr>\n",
       "    <tr>\n",
       "      <td>2</td>\n",
       "      <td>8-Jul-20</td>\n",
       "      <td>@pln_123 ini pln kalo nyatat kira2 dong  jangan ngawur. asal jeplak aja karena banyak kegiatan dirumah. bisa diliat itu naiknya ga kira3#plnvangke https://t.co/qnqk0yvcx5</td>\n",
       "    </tr>\n",
       "    <tr>\n",
       "      <td>3</td>\n",
       "      <td>8-Jul-20</td>\n",
       "      <td>#plnvangke woii anjir akhir2 ini hampir setiap hari pasti mati lampu. lo kira gue gaada kerjaan?????!!!!! skripsi gue di ujung tanduk nih #pouting face# #pouting face# #pouting face#</td>\n",
       "    </tr>\n",
       "    <tr>\n",
       "      <td>4</td>\n",
       "      <td>8-Jul-20</td>\n",
       "      <td>dear #plnvangke pak dengerin nih listrik mati dah 6 jam gw kebelet ee kamar mandi gelap  ahirnya w paksain tuh gelap\"an jongkok dah tu perasaan posisi udah pas nih d atas lobang ternyata kondisi pantat ketinggian al hasil kemana\" dah tu bubur coklat :3   nanjeng lah</td>\n",
       "    </tr>\n",
       "    <tr>\n",
       "      <td>...</td>\n",
       "      <td>...</td>\n",
       "      <td>...</td>\n",
       "    </tr>\n",
       "    <tr>\n",
       "      <td>464</td>\n",
       "      <td>2-Jul-20</td>\n",
       "      <td>@indruxx20 @tiaputriput @alamauliya @dr_tompi ini makin ngaco @pln_123 ada byk yg komplain tagihan listrik naik  ini mencurigakan. harus dibongkar ini. alasan kalian jgn2 semua sama pd pelanggan yg komplain</td>\n",
       "    </tr>\n",
       "    <tr>\n",
       "      <td>465</td>\n",
       "      <td>2-Jul-20</td>\n",
       "      <td>@indruxx20 @tiaputriput @alamauliya @dr_tompi kita komplain di twitter ke @pln_123 dan mrk bls d dm. coba teman2 blg  alasan mrk knp tagihan listrik naik? jangan2 semua alasannya sama</td>\n",
       "    </tr>\n",
       "    <tr>\n",
       "      <td>466</td>\n",
       "      <td>2-Jul-20</td>\n",
       "      <td>@pln_123 tagihan listrik saya bulan ini naik 2x lipat sementara pemakaian seperti bulan-bulan sebelumnya. untuk komplain saya harus kemana ya? thanks.</td>\n",
       "    </tr>\n",
       "    <tr>\n",
       "      <td>467</td>\n",
       "      <td>2-Jul-20</td>\n",
       "      <td>@pln_123 parah banget sih ini  akhirnya ngerasain juga tagihan listrik naik hampir 2x lipat di bulan ini. mau komplain kemana ya?</td>\n",
       "    </tr>\n",
       "    <tr>\n",
       "      <td>468</td>\n",
       "      <td>2-Jul-20</td>\n",
       "      <td>@infopln dear pln  nbulan lalu saya sudah komplain karena tagihan meningkat drastis  dan pemakaian sudah kamu kurangi  kami tidak pernah menyalahkan tv  tv ada mesin cuci  tida meneriska pakaian.  xa0  ndaya listrik hanya 900w.  xa0  nkenapa seperti ini kembali? https://t.co/ujpivdshhm</td>\n",
       "    </tr>\n",
       "  </tbody>\n",
       "</table>\n",
       "<p>469 rows × 2 columns</p>\n",
       "</div>"
      ],
      "text/plain": [
       "         date  \\\n",
       "0    8-Jul-20   \n",
       "1    8-Jul-20   \n",
       "2    8-Jul-20   \n",
       "3    8-Jul-20   \n",
       "4    8-Jul-20   \n",
       "..        ...   \n",
       "464  2-Jul-20   \n",
       "465  2-Jul-20   \n",
       "466  2-Jul-20   \n",
       "467  2-Jul-20   \n",
       "468  2-Jul-20   \n",
       "\n",
       "                                                                                                                                                                                                                                                                                                tweet  \n",
       "0     #plnvangke @pln_123 cuma pake 350 kwh kok dibebankan 1.562 kwh? https://t.co/o8dyn3xoqd                                                                                                                                                                                                          \n",
       "1     asal usul tagihan listrik ajaib by @pln_123      #plnvangke https://t.co/j4pphxfaro                                                                                                                                                                                                              \n",
       "2     @pln_123 ini pln kalo nyatat kira2 dong  jangan ngawur. asal jeplak aja karena banyak kegiatan dirumah. bisa diliat itu naiknya ga kira3#plnvangke https://t.co/qnqk0yvcx5                                                                                                                       \n",
       "3     #plnvangke woii anjir akhir2 ini hampir setiap hari pasti mati lampu. lo kira gue gaada kerjaan?????!!!!! skripsi gue di ujung tanduk nih #pouting face# #pouting face# #pouting face#                                                                                                           \n",
       "4     dear #plnvangke pak dengerin nih listrik mati dah 6 jam gw kebelet ee kamar mandi gelap  ahirnya w paksain tuh gelap\"an jongkok dah tu perasaan posisi udah pas nih d atas lobang ternyata kondisi pantat ketinggian al hasil kemana\" dah tu bubur coklat :3   nanjeng lah                       \n",
       "..                                                                                                                                                                                                                                                                            ...                      \n",
       "464   @indruxx20 @tiaputriput @alamauliya @dr_tompi ini makin ngaco @pln_123 ada byk yg komplain tagihan listrik naik  ini mencurigakan. harus dibongkar ini. alasan kalian jgn2 semua sama pd pelanggan yg komplain                                                                                   \n",
       "465   @indruxx20 @tiaputriput @alamauliya @dr_tompi kita komplain di twitter ke @pln_123 dan mrk bls d dm. coba teman2 blg  alasan mrk knp tagihan listrik naik? jangan2 semua alasannya sama                                                                                                          \n",
       "466   @pln_123 tagihan listrik saya bulan ini naik 2x lipat sementara pemakaian seperti bulan-bulan sebelumnya. untuk komplain saya harus kemana ya? thanks.                                                                                                                                           \n",
       "467   @pln_123 parah banget sih ini  akhirnya ngerasain juga tagihan listrik naik hampir 2x lipat di bulan ini. mau komplain kemana ya?                                                                                                                                                                \n",
       "468   @infopln dear pln  nbulan lalu saya sudah komplain karena tagihan meningkat drastis  dan pemakaian sudah kamu kurangi  kami tidak pernah menyalahkan tv  tv ada mesin cuci  tida meneriska pakaian.  xa0  ndaya listrik hanya 900w.  xa0  nkenapa seperti ini kembali? https://t.co/ujpivdshhm   \n",
       "\n",
       "[469 rows x 2 columns]"
      ]
     },
     "execution_count": 37,
     "metadata": {},
     "output_type": "execute_result"
    }
   ],
   "source": [
    "data = pd.read_csv('res1.csv', usecols=[0, 1], names=['date', 'tweet'])\n",
    "pd.set_option('display.max_colwidth', -1)\n",
    "data"
   ]
  },
  {
   "cell_type": "markdown",
   "metadata": {},
   "source": [
    "#  Bersihkan data Dari URL"
   ]
  },
  {
   "cell_type": "code",
   "execution_count": 38,
   "metadata": {},
   "outputs": [],
   "source": [
    "userTw = []\n",
    "newSentence = []"
   ]
  },
  {
   "cell_type": "code",
   "execution_count": 39,
   "metadata": {},
   "outputs": [],
   "source": [
    "#baca data hasil pembersihan algoritma sebelumnya\n",
    "data = pd.read_csv('res1.csv', usecols=[0, 1], names=['date', 'tweet'])\n",
    "for line in data['tweet']:\n",
    "    userTw.append(line)"
   ]
  },
  {
   "cell_type": "code",
   "execution_count": 40,
   "metadata": {},
   "outputs": [],
   "source": [
    "#algoritma pembersihan URL\n",
    "for i in range(len(userTw)):\n",
    "    sent = ''.join(userTw[i])\n",
    "    token = sent.split()\n",
    "    newToken = sent.split()\n",
    "    for x in range(len(token)):\n",
    "        # tambahkan fitur yg mau dihapus\n",
    "        if 'http' in token[x]:\n",
    "            newToken.remove(token[x])\n",
    "        elif 'ue6f4' in token[x]:\n",
    "            newToken.remove(token[x])\n",
    "    concate = ' '.join(newToken)\n",
    "    newSentence.append(concate)"
   ]
  },
  {
   "cell_type": "code",
   "execution_count": 41,
   "metadata": {},
   "outputs": [],
   "source": [
    "bundle = [data['date'], newSentence]\n",
    "export_data = zip_longest(*bundle, fillvalue='')\n",
    "with open('finalress.csv', 'w', encoding=\"ISO-8859-1\", newline='') as myfile:\n",
    "    wr = csv.writer(myfile)\n",
    "    wr.writerows(export_data)\n",
    "myfile.close()"
   ]
  },
  {
   "cell_type": "code",
   "execution_count": 42,
   "metadata": {},
   "outputs": [
    {
     "data": {
      "text/html": [
       "<div>\n",
       "<style scoped>\n",
       "    .dataframe tbody tr th:only-of-type {\n",
       "        vertical-align: middle;\n",
       "    }\n",
       "\n",
       "    .dataframe tbody tr th {\n",
       "        vertical-align: top;\n",
       "    }\n",
       "\n",
       "    .dataframe thead th {\n",
       "        text-align: right;\n",
       "    }\n",
       "</style>\n",
       "<table border=\"1\" class=\"dataframe\">\n",
       "  <thead>\n",
       "    <tr style=\"text-align: right;\">\n",
       "      <th></th>\n",
       "      <th>date</th>\n",
       "      <th>tweet</th>\n",
       "    </tr>\n",
       "  </thead>\n",
       "  <tbody>\n",
       "    <tr>\n",
       "      <td>0</td>\n",
       "      <td>8-Jul-20</td>\n",
       "      <td>#plnvangke @pln_123 cuma pake 350 kwh kok dibebankan 1.562 kwh?</td>\n",
       "    </tr>\n",
       "    <tr>\n",
       "      <td>1</td>\n",
       "      <td>8-Jul-20</td>\n",
       "      <td>asal usul tagihan listrik ajaib by @pln_123 #plnvangke</td>\n",
       "    </tr>\n",
       "    <tr>\n",
       "      <td>2</td>\n",
       "      <td>8-Jul-20</td>\n",
       "      <td>@pln_123 ini pln kalo nyatat kira2 dong jangan ngawur. asal jeplak aja karena banyak kegiatan dirumah. bisa diliat itu naiknya ga kira3#plnvangke</td>\n",
       "    </tr>\n",
       "    <tr>\n",
       "      <td>3</td>\n",
       "      <td>8-Jul-20</td>\n",
       "      <td>#plnvangke woii anjir akhir2 ini hampir setiap hari pasti mati lampu. lo kira gue gaada kerjaan?????!!!!! skripsi gue di ujung tanduk nih #pouting face# #pouting face# #pouting face#</td>\n",
       "    </tr>\n",
       "    <tr>\n",
       "      <td>4</td>\n",
       "      <td>8-Jul-20</td>\n",
       "      <td>dear #plnvangke pak dengerin nih listrik mati dah 6 jam gw kebelet ee kamar mandi gelap ahirnya w paksain tuh gelap\"an jongkok dah tu perasaan posisi udah pas nih d atas lobang ternyata kondisi pantat ketinggian al hasil kemana\" dah tu bubur coklat :3 nanjeng lah</td>\n",
       "    </tr>\n",
       "    <tr>\n",
       "      <td>...</td>\n",
       "      <td>...</td>\n",
       "      <td>...</td>\n",
       "    </tr>\n",
       "    <tr>\n",
       "      <td>464</td>\n",
       "      <td>2-Jul-20</td>\n",
       "      <td>@indruxx20 @tiaputriput @alamauliya @dr_tompi ini makin ngaco @pln_123 ada byk yg komplain tagihan listrik naik ini mencurigakan. harus dibongkar ini. alasan kalian jgn2 semua sama pd pelanggan yg komplain</td>\n",
       "    </tr>\n",
       "    <tr>\n",
       "      <td>465</td>\n",
       "      <td>2-Jul-20</td>\n",
       "      <td>@indruxx20 @tiaputriput @alamauliya @dr_tompi kita komplain di twitter ke @pln_123 dan mrk bls d dm. coba teman2 blg alasan mrk knp tagihan listrik naik? jangan2 semua alasannya sama</td>\n",
       "    </tr>\n",
       "    <tr>\n",
       "      <td>466</td>\n",
       "      <td>2-Jul-20</td>\n",
       "      <td>@pln_123 tagihan listrik saya bulan ini naik 2x lipat sementara pemakaian seperti bulan-bulan sebelumnya. untuk komplain saya harus kemana ya? thanks.</td>\n",
       "    </tr>\n",
       "    <tr>\n",
       "      <td>467</td>\n",
       "      <td>2-Jul-20</td>\n",
       "      <td>@pln_123 parah banget sih ini akhirnya ngerasain juga tagihan listrik naik hampir 2x lipat di bulan ini. mau komplain kemana ya?</td>\n",
       "    </tr>\n",
       "    <tr>\n",
       "      <td>468</td>\n",
       "      <td>2-Jul-20</td>\n",
       "      <td>@infopln dear pln nbulan lalu saya sudah komplain karena tagihan meningkat drastis dan pemakaian sudah kamu kurangi kami tidak pernah menyalahkan tv tv ada mesin cuci tida meneriska pakaian. xa0 ndaya listrik hanya 900w. xa0 nkenapa seperti ini kembali?</td>\n",
       "    </tr>\n",
       "  </tbody>\n",
       "</table>\n",
       "<p>469 rows × 2 columns</p>\n",
       "</div>"
      ],
      "text/plain": [
       "         date  \\\n",
       "0    8-Jul-20   \n",
       "1    8-Jul-20   \n",
       "2    8-Jul-20   \n",
       "3    8-Jul-20   \n",
       "4    8-Jul-20   \n",
       "..        ...   \n",
       "464  2-Jul-20   \n",
       "465  2-Jul-20   \n",
       "466  2-Jul-20   \n",
       "467  2-Jul-20   \n",
       "468  2-Jul-20   \n",
       "\n",
       "                                                                                                                                                                                                                                                                       tweet  \n",
       "0    #plnvangke @pln_123 cuma pake 350 kwh kok dibebankan 1.562 kwh?                                                                                                                                                                                                          \n",
       "1    asal usul tagihan listrik ajaib by @pln_123 #plnvangke                                                                                                                                                                                                                   \n",
       "2    @pln_123 ini pln kalo nyatat kira2 dong jangan ngawur. asal jeplak aja karena banyak kegiatan dirumah. bisa diliat itu naiknya ga kira3#plnvangke                                                                                                                        \n",
       "3    #plnvangke woii anjir akhir2 ini hampir setiap hari pasti mati lampu. lo kira gue gaada kerjaan?????!!!!! skripsi gue di ujung tanduk nih #pouting face# #pouting face# #pouting face#                                                                                   \n",
       "4    dear #plnvangke pak dengerin nih listrik mati dah 6 jam gw kebelet ee kamar mandi gelap ahirnya w paksain tuh gelap\"an jongkok dah tu perasaan posisi udah pas nih d atas lobang ternyata kondisi pantat ketinggian al hasil kemana\" dah tu bubur coklat :3 nanjeng lah  \n",
       "..                                                                                                                                                                                                                                                                       ...  \n",
       "464  @indruxx20 @tiaputriput @alamauliya @dr_tompi ini makin ngaco @pln_123 ada byk yg komplain tagihan listrik naik ini mencurigakan. harus dibongkar ini. alasan kalian jgn2 semua sama pd pelanggan yg komplain                                                            \n",
       "465  @indruxx20 @tiaputriput @alamauliya @dr_tompi kita komplain di twitter ke @pln_123 dan mrk bls d dm. coba teman2 blg alasan mrk knp tagihan listrik naik? jangan2 semua alasannya sama                                                                                   \n",
       "466  @pln_123 tagihan listrik saya bulan ini naik 2x lipat sementara pemakaian seperti bulan-bulan sebelumnya. untuk komplain saya harus kemana ya? thanks.                                                                                                                   \n",
       "467  @pln_123 parah banget sih ini akhirnya ngerasain juga tagihan listrik naik hampir 2x lipat di bulan ini. mau komplain kemana ya?                                                                                                                                         \n",
       "468  @infopln dear pln nbulan lalu saya sudah komplain karena tagihan meningkat drastis dan pemakaian sudah kamu kurangi kami tidak pernah menyalahkan tv tv ada mesin cuci tida meneriska pakaian. xa0 ndaya listrik hanya 900w. xa0 nkenapa seperti ini kembali?            \n",
       "\n",
       "[469 rows x 2 columns]"
      ]
     },
     "execution_count": 42,
     "metadata": {},
     "output_type": "execute_result"
    }
   ],
   "source": [
    "data = pd.read_csv('finalress.csv', usecols=[0, 1], names=['date', 'tweet']) #save as csv\n",
    "pd.set_option('display.max_colwidth', -1)\n",
    "data"
   ]
  },
  {
   "cell_type": "code",
   "execution_count": null,
   "metadata": {},
   "outputs": [],
   "source": []
  }
 ],
 "metadata": {
  "kernelspec": {
   "display_name": "Python 3",
   "language": "python",
   "name": "python3"
  },
  "language_info": {
   "codemirror_mode": {
    "name": "ipython",
    "version": 3
   },
   "file_extension": ".py",
   "mimetype": "text/x-python",
   "name": "python",
   "nbconvert_exporter": "python",
   "pygments_lexer": "ipython3",
   "version": "3.7.3"
  }
 },
 "nbformat": 4,
 "nbformat_minor": 2
}
